{
  "nbformat": 4,
  "nbformat_minor": 0,
  "metadata": {
    "colab": {
      "provenance": []
    },
    "language_info": {
      "codemirror_mode": {
        "name": "ipython",
        "version": 3
      },
      "file_extension": ".py",
      "mimetype": "text/x-python",
      "name": "python",
      "nbconvert_exporter": "python",
      "pygments_lexer": "ipython3",
      "version": "3.6.6"
    },
    "kernelspec": {
      "name": "python3",
      "display_name": "Python 3"
    }
  },
  "cells": [
    {
      "cell_type": "markdown",
      "metadata": {
        "id": "o3UFgeUebGKo"
      },
      "source": [
        "Download the data"
      ]
    },
    {
      "cell_type": "code",
      "metadata": {
        "id": "P6BH8Bgpa_ZS",
        "colab": {
          "base_uri": "https://localhost:8080/"
        },
        "outputId": "952b638f-12bf-4821-d63c-dd25da29a65a"
      },
      "source": [
        "!wget https://download.pytorch.org/tutorial/data.zip\n",
        "!unzip data.zip\n",
        "!ls"
      ],
      "execution_count": null,
      "outputs": [
        {
          "output_type": "stream",
          "name": "stdout",
          "text": [
            "--2023-03-17 05:49:48--  https://download.pytorch.org/tutorial/data.zip\n",
            "Resolving download.pytorch.org (download.pytorch.org)... 13.249.85.7, 13.249.85.22, 13.249.85.72, ...\n",
            "Connecting to download.pytorch.org (download.pytorch.org)|13.249.85.7|:443... connected.\n",
            "HTTP request sent, awaiting response... 200 OK\n",
            "Length: 2882130 (2.7M) [application/zip]\n",
            "Saving to: ‘data.zip’\n",
            "\n",
            "\rdata.zip              0%[                    ]       0  --.-KB/s               \rdata.zip            100%[===================>]   2.75M  --.-KB/s    in 0.07s   \n",
            "\n",
            "2023-03-17 05:49:48 (37.1 MB/s) - ‘data.zip’ saved [2882130/2882130]\n",
            "\n",
            "Archive:  data.zip\n",
            "   creating: data/\n",
            "  inflating: data/eng-fra.txt        \n",
            "   creating: data/names/\n",
            "  inflating: data/names/Arabic.txt   \n",
            "  inflating: data/names/Chinese.txt  \n",
            "  inflating: data/names/Czech.txt    \n",
            "  inflating: data/names/Dutch.txt    \n",
            "  inflating: data/names/English.txt  \n",
            "  inflating: data/names/French.txt   \n",
            "  inflating: data/names/German.txt   \n",
            "  inflating: data/names/Greek.txt    \n",
            "  inflating: data/names/Irish.txt    \n",
            "  inflating: data/names/Italian.txt  \n",
            "  inflating: data/names/Japanese.txt  \n",
            "  inflating: data/names/Korean.txt   \n",
            "  inflating: data/names/Polish.txt   \n",
            "  inflating: data/names/Portuguese.txt  \n",
            "  inflating: data/names/Russian.txt  \n",
            "  inflating: data/names/Scottish.txt  \n",
            "  inflating: data/names/Spanish.txt  \n",
            "  inflating: data/names/Vietnamese.txt  \n",
            "data  data.zip\tsample_data\n"
          ]
        }
      ]
    },
    {
      "cell_type": "code",
      "metadata": {
        "id": "IGZLdMtDUfxu"
      },
      "source": [
        "%matplotlib inline"
      ],
      "execution_count": null,
      "outputs": []
    },
    {
      "cell_type": "markdown",
      "metadata": {
        "id": "KNkkHixNUfxz"
      },
      "source": [
        "\n",
        "Classifying Names with a Character-Level RNN\n",
        "*********************************************\n",
        "**Author**: `Sean Robertson <https://github.com/spro/practical-pytorch>`_\n",
        "\n",
        "We will be building and training a basic character-level RNN to classify\n",
        "words. A character-level RNN reads words as a series of characters -\n",
        "outputting a prediction and \"hidden state\" at each step, feeding its\n",
        "previous hidden state into each next step. We take the final prediction\n",
        "to be the output, i.e. which class the word belongs to.\n",
        "\n",
        "Specifically, we'll train on a few thousand surnames from 18 languages\n",
        "of origin, and predict which language a name is from based on the\n",
        "spelling:\n",
        "\n",
        "::\n",
        "\n",
        "    $ python predict.py Hinton\n",
        "    (-0.47) Scottish\n",
        "    (-1.52) English\n",
        "    (-3.57) Irish\n",
        "\n",
        "    $ python predict.py Schmidhuber\n",
        "    (-0.19) German\n",
        "    (-2.48) Czech\n",
        "    (-2.68) Dutch\n",
        "\n",
        "\n",
        "**Recommended Reading:**\n",
        "\n",
        "I assume you have at least installed PyTorch, know Python, and\n",
        "understand Tensors:\n",
        "\n",
        "-  http://pytorch.org/ For installation instructions\n",
        "-  :doc:`/beginner/deep_learning_60min_blitz` to get started with PyTorch in general\n",
        "-  :doc:`/beginner/pytorch_with_examples` for a wide and deep overview\n",
        "-  :doc:`/beginner/former_torchies_tutorial` if you are former Lua Torch user\n",
        "\n",
        "It would also be useful to know about RNNs and how they work:\n",
        "\n",
        "-  `The Unreasonable Effectiveness of Recurrent Neural\n",
        "   Networks <http://karpathy.github.io/2015/05/21/rnn-effectiveness/>`__\n",
        "   shows a bunch of real life examples\n",
        "-  `Understanding LSTM\n",
        "   Networks <http://colah.github.io/posts/2015-08-Understanding-LSTMs/>`__\n",
        "   is about LSTMs specifically but also informative about RNNs in\n",
        "   general\n",
        "\n",
        "Preparing the Data\n",
        "==================\n",
        "\n",
        ".. Note::\n",
        "   Download the data from\n",
        "   `here <https://download.pytorch.org/tutorial/data.zip>`_\n",
        "   and extract it to the current directory.\n",
        "\n",
        "Included in the ``data/names`` directory are 18 text files named as\n",
        "\"[Language].txt\". Each file contains a bunch of names, one name per\n",
        "line, mostly romanized (but we still need to convert from Unicode to\n",
        "ASCII).\n",
        "\n",
        "We'll end up with a dictionary of lists of names per language,\n",
        "``{language: [names ...]}``. The generic variables \"category\" and \"line\"\n",
        "(for language and name in our case) are used for later extensibility.\n",
        "\n"
      ]
    },
    {
      "cell_type": "code",
      "metadata": {
        "id": "MfLSXwTHUfxz",
        "colab": {
          "base_uri": "https://localhost:8080/"
        },
        "outputId": "27a5bd7e-2748-4af6-924a-4a28a20f3904"
      },
      "source": [
        "from __future__ import unicode_literals, print_function, division\n",
        "from io import open\n",
        "import glob\n",
        "import os\n",
        "import random\n",
        "\n",
        "def findFiles(path): return glob.glob(path)\n",
        "\n",
        "print(findFiles('data/names/*.txt'))\n",
        "\n",
        "import unicodedata\n",
        "import string\n",
        "import math\n",
        "\n",
        "all_letters = string.ascii_letters + \" .,;'\"\n",
        "n_letters = len(all_letters)\n",
        "\n",
        "# Turn a Unicode string to plain ASCII, thanks to http://stackoverflow.com/a/518232/2809427\n",
        "def unicodeToAscii(s):\n",
        "    return ''.join(\n",
        "        c for c in unicodedata.normalize('NFD', s)\n",
        "        if unicodedata.category(c) != 'Mn'\n",
        "        and c in all_letters\n",
        "    )\n",
        "\n",
        "print(unicodeToAscii('Ślusàrski'))\n",
        "\n",
        "# Build the category_lines dictionary, a list of names per language\n",
        "category_lines = {}\n",
        "train_data = {}\n",
        "validation_data = {}\n",
        "test_data = {}\n",
        "all_categories = []\n",
        "\n",
        "# Read a file and split into lines\n",
        "def readLines(filename):\n",
        "    lines = open(filename, encoding='utf-8').read().strip().split('\\n')\n",
        "    return [unicodeToAscii(line) for line in lines]\n",
        "\n",
        "for filename in findFiles('data/names/*.txt'):\n",
        "    category = os.path.splitext(os.path.basename(filename))[0]\n",
        "    all_categories.append(category)\n",
        "    lines = readLines(filename)\n",
        "    random.shuffle(lines)\n",
        "    train_data[category] = lines[0:int(math.floor(0.7*len(lines)))]\n",
        "    validation_data[category] = lines[int(math.floor(0.7*len(lines)))+1:int(math.floor(0.85*len(lines)))]\n",
        "    test_data[category] = lines[int(math.floor(0.85*len(lines)))+1:]\n",
        "    category_lines[category] = lines\n",
        "\n",
        "n_categories = len(all_categories)"
      ],
      "execution_count": null,
      "outputs": [
        {
          "output_type": "stream",
          "name": "stdout",
          "text": [
            "['data/names/Chinese.txt', 'data/names/Spanish.txt', 'data/names/Vietnamese.txt', 'data/names/French.txt', 'data/names/Irish.txt', 'data/names/Greek.txt', 'data/names/Arabic.txt', 'data/names/English.txt', 'data/names/German.txt', 'data/names/Scottish.txt', 'data/names/Korean.txt', 'data/names/Dutch.txt', 'data/names/Czech.txt', 'data/names/Italian.txt', 'data/names/Russian.txt', 'data/names/Polish.txt', 'data/names/Japanese.txt', 'data/names/Portuguese.txt']\n",
            "Slusarski\n"
          ]
        }
      ]
    },
    {
      "cell_type": "markdown",
      "metadata": {
        "id": "lPlBRkDuUfx2"
      },
      "source": [
        "Now we have ``category_lines``, a dictionary mapping each category\n",
        "(language) to a list of lines (names). We also kept track of\n",
        "``all_categories`` (just a list of languages) and ``n_categories`` for\n",
        "later reference.\n",
        "\n",
        "\n"
      ]
    },
    {
      "cell_type": "code",
      "metadata": {
        "id": "VKlnBNIjUfx2",
        "colab": {
          "base_uri": "https://localhost:8080/"
        },
        "outputId": "b950c0dc-f01b-41ff-a609-b91ddfa4452b"
      },
      "source": [
        "print(category_lines['Italian'][:5])"
      ],
      "execution_count": null,
      "outputs": [
        {
          "output_type": "stream",
          "name": "stdout",
          "text": [
            "['Altoviti', 'Manco', 'Bandini', 'Nicolosi', 'Murtas']\n"
          ]
        }
      ]
    },
    {
      "cell_type": "markdown",
      "metadata": {
        "id": "I5SGUIMRUfx4"
      },
      "source": [
        "Turning Names into Tensors\n",
        "--------------------------\n",
        "\n",
        "Now that we have all the names organized, we need to turn them into\n",
        "Tensors to make any use of them.\n",
        "\n",
        "To represent a single letter, we use a \"one-hot vector\" of size\n",
        "``<1 x n_letters>``. A one-hot vector is filled with 0s except for a 1\n",
        "at index of the current letter, e.g. ``\"b\" = <0 1 0 0 0 ...>``.\n",
        "\n",
        "To make a word we join a bunch of those into a 2D matrix\n",
        "``<line_length x 1 x n_letters>``.\n",
        "\n",
        "That extra 1 dimension is because PyTorch assumes everything is in\n",
        "batches - we're just using a batch size of 1 here.\n",
        "\n",
        "\n"
      ]
    },
    {
      "cell_type": "code",
      "metadata": {
        "id": "SPFamDJVUfx5",
        "colab": {
          "base_uri": "https://localhost:8080/"
        },
        "outputId": "1982092c-704f-47b8-ee7a-f27c3d63bb0d"
      },
      "source": [
        "import torch\n",
        "\n",
        "# Find letter index from all_letters, e.g. \"a\" = 0\n",
        "def letterToIndex(letter):\n",
        "    return all_letters.find(letter)\n",
        "\n",
        "# Just for demonstration, turn a letter into a <1 x n_letters> Tensor\n",
        "def letterToTensor(letter):\n",
        "    tensor = torch.zeros(1, n_letters)\n",
        "    tensor[0][letterToIndex(letter)] = 1\n",
        "    return tensor\n",
        "\n",
        "# Turn a line into a <line_length x 1 x n_letters>,\n",
        "# or an array of one-hot letter vectors\n",
        "def lineToTensor(line):\n",
        "    tensor = torch.zeros(len(line), 1, n_letters)\n",
        "    for li, letter in enumerate(line):\n",
        "        tensor[li][0][letterToIndex(letter)] = 1\n",
        "    return tensor\n",
        "\n",
        "print(letterToTensor('J'))\n",
        "\n",
        "print(lineToTensor('Jones').size())"
      ],
      "execution_count": null,
      "outputs": [
        {
          "output_type": "stream",
          "name": "stdout",
          "text": [
            "tensor([[0., 0., 0., 0., 0., 0., 0., 0., 0., 0., 0., 0., 0., 0., 0., 0., 0., 0.,\n",
            "         0., 0., 0., 0., 0., 0., 0., 0., 0., 0., 0., 0., 0., 0., 0., 0., 0., 1.,\n",
            "         0., 0., 0., 0., 0., 0., 0., 0., 0., 0., 0., 0., 0., 0., 0., 0., 0., 0.,\n",
            "         0., 0., 0.]])\n",
            "torch.Size([5, 1, 57])\n"
          ]
        }
      ]
    },
    {
      "cell_type": "markdown",
      "metadata": {
        "id": "FBQkCWy_Ufx7"
      },
      "source": [
        "Creating the Network\n",
        "====================\n",
        "\n",
        "Before autograd, creating a recurrent neural network in Torch involved\n",
        "cloning the parameters of a layer over several timesteps. The layers\n",
        "held hidden state and gradients which are now entirely handled by the\n",
        "graph itself. This means you can implement a RNN in a very \"pure\" way,\n",
        "as regular feed-forward layers.\n",
        "\n",
        "This RNN module (mostly copied from `the PyTorch for Torch users\n",
        "tutorial <http://pytorch.org/tutorials/beginner/former_torchies/\n",
        "nn_tutorial.html#example-2-recurrent-net>`__)\n",
        "is just 2 linear layers which operate on an input and hidden state, with\n",
        "a LogSoftmax layer after the output.\n",
        "\n",
        ".. figure:: https://i.imgur.com/Z2xbySO.png\n",
        "   :alt:\n",
        "\n",
        "\n",
        "\n"
      ]
    },
    {
      "cell_type": "markdown",
      "source": [
        "### Linear hidden unit based RNN class:"
      ],
      "metadata": {
        "id": "m6KbtzJ9QCsA"
      }
    },
    {
      "cell_type": "code",
      "metadata": {
        "id": "nAJSP2rTUfx8"
      },
      "source": [
        "import torch.nn as nn\n",
        "from torch.autograd import Variable\n",
        "\n",
        "class RNN(nn.Module):\n",
        "    def __init__(self, input_size, hidden_size, output_size):\n",
        "        super(RNN, self).__init__()\n",
        "\n",
        "        self.hidden_size = hidden_size\n",
        "\n",
        "        self.i2h = nn.Linear(input_size + hidden_size, hidden_size)\n",
        "        self.i2o = nn.Linear(input_size + hidden_size, output_size)\n",
        "        self.softmax = nn.LogSoftmax(dim=1)\n",
        "\n",
        "    def forward(self, input, hidden):\n",
        "        combined = torch.cat((input, hidden), 1)\n",
        "        hidden = self.i2h(combined)\n",
        "        output = self.i2o(combined)\n",
        "        output = self.softmax(output)\n",
        "        return output, hidden\n",
        "\n",
        "    def initHidden(self):\n",
        "        return torch.zeros(1, self.hidden_size)\n",
        "\n",
        "n_hidden = 128\n",
        "rnn = RNN(n_letters, n_hidden, n_categories)      "
      ],
      "execution_count": null,
      "outputs": []
    },
    {
      "cell_type": "markdown",
      "source": [
        "### GRU hidden unit based RNN class:"
      ],
      "metadata": {
        "id": "lFF9oCcXP52U"
      }
    },
    {
      "cell_type": "code",
      "source": [
        "class GRUNet(nn.Module):\n",
        "    def __init__(self, input_size, hidden_size, output_size):\n",
        "        super(GRUNet, self).__init__()\n",
        "\n",
        "        self.hidden_size = hidden_size\n",
        "        \n",
        "        self.i2h = nn.GRU(input_size, hidden_size)\n",
        "        self.i2o = nn.Linear(input_size + hidden_size, output_size)\n",
        "        self.softmax = nn.LogSoftmax(dim=1)\n",
        "    \n",
        "    def forward(self, input, hidden):\n",
        "        \n",
        "        combined = torch.cat((input, hidden), 1)\n",
        "        a, hidden = self.i2h(input, hidden)  \n",
        "        output = self.i2o(combined)\n",
        "        output = self.softmax(output)\n",
        "        \n",
        "        return output, hidden\n",
        "\n",
        "    def initHidden(self):\n",
        "        return torch.zeros(1, self.hidden_size)\n",
        "\n",
        "gru = GRUNet(n_letters, n_hidden, n_categories)  \n",
        "  "
      ],
      "metadata": {
        "id": "1DZEmvkQeVuO"
      },
      "execution_count": null,
      "outputs": []
    },
    {
      "cell_type": "markdown",
      "source": [
        "### LSTM hidden unit based RNN class:"
      ],
      "metadata": {
        "id": "Je5vYesjQH3w"
      }
    },
    {
      "cell_type": "code",
      "source": [
        "class LSTMNet(nn.Module):\n",
        "    def __init__(self, input_size, hidden_size, output_size):\n",
        "        super(LSTMNet, self).__init__()\n",
        "\n",
        "        self.hidden_size = hidden_size\n",
        "                \n",
        "        self.i2h = nn.LSTM(input_size, hidden_size)\n",
        "        self.i2o = nn.Linear(hidden_size, output_size) \n",
        "        self.softmax = nn.LogSoftmax(dim=2)\n",
        "    \n",
        "    def forward(self, input, hidden):\n",
        "        \n",
        "        out, hidden = self.i2h(input.view(1,1,-1),hidden) \n",
        "        output = self.i2o(hidden[0])\n",
        "        output = self.softmax(output)      \n",
        "        \n",
        "        return output.view(1,-1), hidden\n",
        "\n",
        "    def initHidden(self):\n",
        "        return (torch.zeros(1, 1, self.hidden_size),torch.zeros(1, 1, self.hidden_size))\n",
        "\n",
        "lstm = LSTMNet(n_letters, n_hidden, n_categories)  "
      ],
      "metadata": {
        "id": "KVG4pGGKeWHJ"
      },
      "execution_count": null,
      "outputs": []
    },
    {
      "cell_type": "markdown",
      "metadata": {
        "id": "fhxOqo0mUfx-"
      },
      "source": [
        "To run a step of this network we need to pass an input (in our case, the\n",
        "Tensor for the current letter) and a previous hidden state (which we\n",
        "initialize as zeros at first). We'll get back the output (probability of\n",
        "each language) and a next hidden state (which we keep for the next\n",
        "step).\n",
        "\n",
        "\n"
      ]
    },
    {
      "cell_type": "code",
      "metadata": {
        "id": "5zjQ-ZXbUfx-"
      },
      "source": [
        "input = letterToTensor('A')\n",
        "hidden =torch.zeros(1, n_hidden)\n",
        "\n",
        "output, next_hidden = rnn(input, hidden)"
      ],
      "execution_count": null,
      "outputs": []
    },
    {
      "cell_type": "markdown",
      "metadata": {
        "id": "juc150V5UfyB"
      },
      "source": [
        "For the sake of efficiency we don't want to be creating a new Tensor for\n",
        "every step, so we will use ``lineToTensor`` instead of\n",
        "``letterToTensor`` and use slices. This could be further optimized by\n",
        "pre-computing batches of Tensors.\n",
        "\n",
        "\n"
      ]
    },
    {
      "cell_type": "code",
      "metadata": {
        "id": "hLpj5ZVPUfyB",
        "colab": {
          "base_uri": "https://localhost:8080/"
        },
        "outputId": "83d3e043-6527-42eb-9fb6-2da205c2425c"
      },
      "source": [
        "input = lineToTensor('Albert')\n",
        "hidden = torch.zeros(1, n_hidden)\n",
        "\n",
        "output, next_hidden = rnn(input[0], hidden)\n",
        "print(output)"
      ],
      "execution_count": null,
      "outputs": [
        {
          "output_type": "stream",
          "name": "stdout",
          "text": [
            "tensor([[-2.8691, -2.9368, -3.0153, -2.8562, -2.8045, -2.8788, -2.9031, -2.9880,\n",
            "         -2.8619, -2.8595, -2.8207, -2.8750, -2.8317, -3.0337, -2.8968, -3.0070,\n",
            "         -2.8429, -2.7914]], grad_fn=<LogSoftmaxBackward0>)\n"
          ]
        }
      ]
    },
    {
      "cell_type": "markdown",
      "metadata": {
        "id": "Wy0E3nCjUfyE"
      },
      "source": [
        "As you can see the output is a ``<1 x n_categories>`` Tensor, where\n",
        "every item is the likelihood of that category (higher is more likely).\n",
        "\n",
        "\n"
      ]
    },
    {
      "cell_type": "markdown",
      "metadata": {
        "id": "ukMo68ApUfyF"
      },
      "source": [
        "Training\n",
        "========\n",
        "Preparing for Training\n",
        "----------------------\n",
        "\n",
        "Before going into training we should make a few helper functions. The\n",
        "first is to interpret the output of the network, which we know to be a\n",
        "likelihood of each category. We can use ``Tensor.topk`` to get the index\n",
        "of the greatest value:\n",
        "\n",
        "\n"
      ]
    },
    {
      "cell_type": "code",
      "metadata": {
        "id": "bFY_yAVKUfyG",
        "colab": {
          "base_uri": "https://localhost:8080/"
        },
        "outputId": "5801db4f-2542-49a4-a9ef-ae9f29527d7c"
      },
      "source": [
        "def categoryFromOutput(output):\n",
        "    top_n, top_i = output.topk(1)\n",
        "    category_i = top_i[0].item()\n",
        "    return all_categories[category_i], category_i\n",
        "\n",
        "print(categoryFromOutput(output))"
      ],
      "execution_count": null,
      "outputs": [
        {
          "output_type": "stream",
          "name": "stdout",
          "text": [
            "('Portuguese', 17)\n"
          ]
        }
      ]
    },
    {
      "cell_type": "markdown",
      "metadata": {
        "id": "mdDJjeS5UfyJ"
      },
      "source": [
        "We will also want a quick way to get a training example (a name and its\n",
        "language):\n",
        "\n",
        "\n"
      ]
    },
    {
      "cell_type": "code",
      "metadata": {
        "id": "nTNx73poUfyK",
        "colab": {
          "base_uri": "https://localhost:8080/"
        },
        "outputId": "9f631834-e785-475e-c218-217aa7e0ec95"
      },
      "source": [
        "import random\n",
        "\n",
        "def randomChoice(l):\n",
        "    return l[random.randint(0, len(l) - 1)]\n",
        "\n",
        "def randomTrainingExample():\n",
        "    category = randomChoice(all_categories)\n",
        "    line = randomChoice(train_data[category])\n",
        "    category_tensor = torch.tensor([all_categories.index(category)], dtype=torch.long)\n",
        "    line_tensor = lineToTensor(line)\n",
        "    return category, line, category_tensor, line_tensor\n",
        "\n",
        "for i in range(10):\n",
        "    category, line, category_tensor, line_tensor = randomTrainingExample()\n",
        "    print('category =', category, '/ line =', line)"
      ],
      "execution_count": null,
      "outputs": [
        {
          "output_type": "stream",
          "name": "stdout",
          "text": [
            "category = Greek / line = Arvanitoyannis\n",
            "category = Dutch / line = Kann\n",
            "category = Arabic / line = Wasem\n",
            "category = Polish / line = Skala\n",
            "category = Scottish / line = Dickson\n",
            "category = Italian / line = Quattrocchi\n",
            "category = Scottish / line = Wright\n",
            "category = Irish / line = Sioda\n",
            "category = Vietnamese / line = Vo\n",
            "category = Vietnamese / line = Chu\n"
          ]
        }
      ]
    },
    {
      "cell_type": "markdown",
      "metadata": {
        "id": "Z4gnruWLUfyM"
      },
      "source": [
        "Training the Network\n",
        "--------------------\n",
        "\n",
        "Now all it takes to train this network is show it a bunch of examples,\n",
        "have it make guesses, and tell it if it's wrong.\n",
        "\n",
        "For the loss function ``nn.NLLLoss`` is appropriate, since the last\n",
        "layer of the RNN is ``nn.LogSoftmax``.\n",
        "\n",
        "\n"
      ]
    },
    {
      "cell_type": "code",
      "metadata": {
        "id": "b91CnzJPUfyM"
      },
      "source": [
        "criterion = nn.NLLLoss()"
      ],
      "execution_count": null,
      "outputs": []
    },
    {
      "cell_type": "markdown",
      "metadata": {
        "id": "FAp0xov1UfyP"
      },
      "source": [
        "Each loop of training will:\n",
        "\n",
        "-  Create input and target tensors\n",
        "-  Create a zeroed initial hidden state\n",
        "-  Read each letter in and\n",
        "\n",
        "   -  Keep hidden state for next letter\n",
        "\n",
        "-  Compare final output to target\n",
        "-  Back-propagate\n",
        "-  Return the output and loss\n",
        "\n",
        "\n"
      ]
    },
    {
      "cell_type": "code",
      "metadata": {
        "id": "ED_i2_CWUfyP"
      },
      "source": [
        "optimizer_rnn = torch.optim.Adam(rnn.parameters())\n",
        "optimizer_gru = torch.optim.Adam(gru.parameters())\n",
        "optimizer_lstm = torch.optim.Adam(lstm.parameters())\n",
        "\n",
        "def train(category_tensor, line_tensor,model,optimizer):\n",
        "    hidden = model.initHidden()\n",
        "\n",
        "    # reset gradient\n",
        "    model.zero_grad()\n",
        "\n",
        "    for i in range(line_tensor.size()[0]):\n",
        "        output, hidden = model(line_tensor[i], hidden)\n",
        "    loss = criterion(output, category_tensor)\n",
        "\n",
        "    # compute gradient by backpropagation\n",
        "    loss.backward()\n",
        "\n",
        "    # update parameters\n",
        "    optimizer.step()\n",
        "\n",
        "    return output, loss.item()"
      ],
      "execution_count": null,
      "outputs": []
    },
    {
      "cell_type": "markdown",
      "metadata": {
        "id": "R9usmP9JUfyR"
      },
      "source": [
        "Now we just have to run that with a bunch of examples. Since the\n",
        "``train`` function returns both the output and loss we can print its\n",
        "guesses and also keep track of loss for plotting. Since there are 1000s\n",
        "of examples we print only every ``print_every`` examples, and take an\n",
        "average of the loss.\n",
        "\n",
        "\n"
      ]
    },
    {
      "cell_type": "code",
      "metadata": {
        "id": "q-EUziAlUfyS"
      },
      "source": [
        "import time\n",
        "import math\n",
        "\n",
        "n_iters = 80000\n",
        "print_every = 5000\n",
        "plot_every = 1000\n",
        "\n",
        "def timeSince(since):\n",
        "    now = time.time()\n",
        "    s = now - since\n",
        "    m = math.floor(s / 60)\n",
        "    s -= m * 60\n",
        "    return '%dm %ds' % (m, s)\n",
        "\n",
        "# Just return an output given a line\n",
        "def evaluate(line_tensor,model):\n",
        "    hidden = model.initHidden()\n",
        "    for i in range(line_tensor.size()[0]):\n",
        "        output, hidden = model(line_tensor[i], hidden)\n",
        "    return output\n",
        "\n",
        "def eval_dataset(dataset,model):\n",
        "    loss = 0\n",
        "    n_instances = 0\n",
        "    confusion = torch.zeros(n_categories, n_categories)\n",
        "    for category in all_categories:\n",
        "        category_tensor = Variable(torch.LongTensor([all_categories.index(category)]))\n",
        "        n_instances += len(dataset[category])\n",
        "        for line in dataset[category]:\n",
        "            line_tensor = Variable(lineToTensor(line))\n",
        "            output = evaluate(line_tensor,model)\n",
        "            loss += criterion(output, category_tensor)\n",
        "            guess, guess_i = categoryFromOutput(output)\n",
        "            category_i = all_categories.index(category)\n",
        "            confusion[category_i][guess_i] += 1\n",
        "\n",
        "    # Normalize by dividing every row by its sum\n",
        "    for i in range(n_categories):\n",
        "        confusion[i] = confusion[i] / confusion[i].sum()\n",
        "\n",
        "    return loss.item() / n_instances, confusion\n",
        "\n",
        "def experiment(model, optimizer):\n",
        "  \n",
        "  # Keep track of losses for plotting\n",
        "  train_loss = 0\n",
        "  all_train_losses = []\n",
        "  all_validation_losses = []\n",
        "\n",
        "  print('\\nIter \\tTrain% \\tTime \\t\\tTrain_loss \\tExample')\n",
        "  start = time.time()\n",
        "\n",
        "  for iter in range(1, n_iters + 1):\n",
        "      category, line, category_tensor, line_tensor = randomTrainingExample()\n",
        "      output, loss = train(category_tensor, line_tensor, model, optimizer)\n",
        "      train_loss += loss\n",
        "\n",
        "      # Print iter number, train loss average, name and guess\n",
        "      if iter % print_every == 0:\n",
        "          guess, guess_i = categoryFromOutput(output)\n",
        "          correct = '✓' if guess == category else '✗ (%s)' % category\n",
        "          print('%d \\t%d%% \\t(%s) \\t%.4f \\t\\t%s / %s %s' % (iter, iter / n_iters * 100, timeSince(start), train_loss / plot_every, line, guess, correct))\n",
        "\n",
        "      # Add current train loss average to list of losses\n",
        "      if iter % plot_every == 0:\n",
        "          all_train_losses.append(train_loss / plot_every)\n",
        "          train_loss = 0\n",
        "          \n",
        "      # Compute loss based on validation data\n",
        "      if iter % plot_every == 0:\n",
        "          average_validation_loss, _ = eval_dataset(validation_data, model)\n",
        "\n",
        "          # save model with best validation loss\n",
        "          if len(all_validation_losses) == 0 or average_validation_loss < min(all_validation_losses):\n",
        "            if model == rnn:\n",
        "              torch.save(model, 'char_rnn_classification_model.pt')\n",
        "            elif model == gru:\n",
        "              torch.save(model, 'char_gru_classification_model.pt')\n",
        "            elif model == lstm:\n",
        "              torch.save(model, 'char_lstm_classification_model.pt')                                          \n",
        "          all_validation_losses.append(average_validation_loss)\n",
        "  return all_train_losses, all_validation_losses\n"
      ],
      "execution_count": null,
      "outputs": []
    },
    {
      "cell_type": "code",
      "source": [
        "print('RNN experiment')\n",
        "all_train_losses_RNN, all_validation_losses_RNN = experiment(rnn, optimizer_rnn)"
      ],
      "metadata": {
        "colab": {
          "base_uri": "https://localhost:8080/"
        },
        "id": "pUKhE3qZM4uT",
        "outputId": "20841472-7450-4640-86fc-9fada3566c9a"
      },
      "execution_count": null,
      "outputs": [
        {
          "output_type": "stream",
          "name": "stdout",
          "text": [
            "RNN experiment\n",
            "\n",
            "Iter \tTrain% \tTime \t\tTrain_loss \tExample\n",
            "5000 \t6% \t(0m 20s) \t1.9029 \t\tPorras / Greek ✗ (Spanish)\n",
            "10000 \t12% \t(0m 35s) \t1.6727 \t\tMarchetti / Italian ✓\n",
            "15000 \t18% \t(0m 49s) \t1.4364 \t\tMiazga / Polish ✓\n",
            "20000 \t25% \t(1m 4s) \t1.4283 \t\tMicheli / Italian ✓\n",
            "25000 \t31% \t(1m 19s) \t1.3668 \t\tHertz / German ✓\n",
            "30000 \t37% \t(1m 33s) \t1.3965 \t\tVykruta / Japanese ✗ (Czech)\n",
            "35000 \t43% \t(1m 48s) \t1.2833 \t\tKrivolavy / Czech ✓\n",
            "40000 \t50% \t(2m 2s) \t1.2177 \t\tStramba / Czech ✓\n",
            "45000 \t56% \t(2m 16s) \t1.2105 \t\tEbden / Dutch ✗ (English)\n",
            "50000 \t62% \t(2m 30s) \t1.2137 \t\tAzarola / Spanish ✓\n",
            "55000 \t68% \t(2m 45s) \t1.1715 \t\tDe leon / Korean ✗ (Spanish)\n",
            "60000 \t75% \t(2m 59s) \t1.2101 \t\tSalcedo / Portuguese ✗ (Spanish)\n",
            "65000 \t81% \t(3m 13s) \t1.2168 \t\tGosselin / English ✗ (French)\n",
            "70000 \t87% \t(3m 28s) \t1.1485 \t\tHladky / Russian ✗ (Czech)\n",
            "75000 \t93% \t(3m 42s) \t1.0971 \t\tLeek / Dutch ✗ (English)\n",
            "80000 \t100% \t(3m 57s) \t1.1286 \t\tRossem / Dutch ✓\n"
          ]
        }
      ]
    },
    {
      "cell_type": "code",
      "source": [
        "print('GRU experiment')\n",
        "all_train_losses_GRU, all_validation_losses_GRU = experiment(gru, optimizer_gru)"
      ],
      "metadata": {
        "colab": {
          "base_uri": "https://localhost:8080/"
        },
        "id": "UBvTzOmNLZg7",
        "outputId": "edaf5894-f54c-43cc-e8ac-58b9f6b10a5b"
      },
      "execution_count": null,
      "outputs": [
        {
          "output_type": "stream",
          "name": "stdout",
          "text": [
            "GRU experiment\n",
            "\n",
            "Iter \tTrain% \tTime \t\tTrain_loss \tExample\n",
            "5000 \t6% \t(0m 36s) \t1.6488 \t\tRomao / Polish ✗ (Portuguese)\n",
            "10000 \t12% \t(1m 16s) \t1.3230 \t\tToselli / Italian ✓\n",
            "15000 \t18% \t(1m 57s) \t1.0263 \t\tSniegowski / Polish ✓\n",
            "20000 \t25% \t(2m 37s) \t0.8121 \t\tChevalier / French ✓\n",
            "25000 \t31% \t(3m 17s) \t0.7082 \t\tPierre / French ✓\n",
            "30000 \t37% \t(3m 58s) \t0.6147 \t\tChung / Korean ✓\n",
            "35000 \t43% \t(4m 38s) \t0.5133 \t\tVann / Dutch ✗ (German)\n",
            "40000 \t50% \t(5m 19s) \t0.4693 \t\tMilne / Scottish ✓\n",
            "45000 \t56% \t(5m 59s) \t0.3944 \t\tStevenson / Scottish ✓\n",
            "50000 \t62% \t(6m 43s) \t0.4123 \t\tFifield / French ✗ (English)\n",
            "55000 \t68% \t(7m 26s) \t0.3757 \t\tAntonakos / Greek ✓\n",
            "60000 \t75% \t(8m 8s) \t0.3402 \t\tLambert / French ✓\n",
            "65000 \t81% \t(8m 51s) \t0.3116 \t\tGomulka / Polish ✓\n",
            "70000 \t87% \t(9m 33s) \t0.3339 \t\tSzewc / Polish ✓\n",
            "75000 \t93% \t(10m 15s) \t0.3042 \t\tChung / Korean ✓\n",
            "80000 \t100% \t(10m 58s) \t0.2899 \t\tMaslanka / Polish ✓\n"
          ]
        }
      ]
    },
    {
      "cell_type": "code",
      "source": [
        "print('LSTM experiment')\n",
        "all_train_losses_LSTM, all_validation_losses_LSTM = experiment(lstm, optimizer_lstm)"
      ],
      "metadata": {
        "colab": {
          "base_uri": "https://localhost:8080/"
        },
        "id": "ZEJBLO1gNCiq",
        "outputId": "301d86e8-8a63-4bbd-9a56-c71528acd163"
      },
      "execution_count": null,
      "outputs": [
        {
          "output_type": "stream",
          "name": "stdout",
          "text": [
            "LSTM experiment\n",
            "\n",
            "Iter \tTrain% \tTime \t\tTrain_loss \tExample\n",
            "5000 \t6% \t(0m 38s) \t1.6412 \t\tBautista / Italian ✗ (Spanish)\n",
            "10000 \t12% \t(1m 22s) \t1.2017 \t\tRovensky / Czech ✗ (Russian)\n",
            "15000 \t18% \t(2m 5s) \t0.9648 \t\tGravari / Italian ✗ (Greek)\n",
            "20000 \t25% \t(2m 48s) \t0.7695 \t\tAntoun / Arabic ✓\n",
            "25000 \t31% \t(3m 31s) \t0.7065 \t\tAkaike / Japanese ✓\n",
            "30000 \t37% \t(4m 15s) \t0.5799 \t\tSan nicolas / Spanish ✓\n",
            "35000 \t43% \t(4m 58s) \t0.4822 \t\tPlamondon / French ✓\n",
            "40000 \t50% \t(5m 41s) \t0.4555 \t\tPyriev / Russian ✓\n",
            "45000 \t56% \t(6m 24s) \t0.4214 \t\tRobertson / Scottish ✓\n",
            "50000 \t62% \t(7m 8s) \t0.3134 \t\tBui / Chinese ✓\n",
            "55000 \t68% \t(7m 51s) \t0.3204 \t\tNazari / Arabic ✓\n",
            "60000 \t75% \t(8m 35s) \t0.3115 \t\tTieu / Vietnamese ✓\n",
            "65000 \t81% \t(9m 19s) \t0.3434 \t\tDoan / Vietnamese ✓\n",
            "70000 \t87% \t(10m 4s) \t0.3033 \t\tGroe / German ✓\n",
            "75000 \t93% \t(10m 47s) \t0.2968 \t\tCheng / Chinese ✓\n",
            "80000 \t100% \t(11m 31s) \t0.2360 \t\tSt pierre / French ✓\n"
          ]
        }
      ]
    },
    {
      "cell_type": "markdown",
      "metadata": {
        "id": "3mFqhbXRUfyU"
      },
      "source": [
        "Plotting the Results\n",
        "--------------------\n",
        "\n",
        "Plotting the historical loss from ``all_losses`` shows the network\n",
        "learning:\n",
        "\n",
        "\n"
      ]
    },
    {
      "cell_type": "code",
      "metadata": {
        "id": "qdcD6MmgUfyV",
        "colab": {
          "base_uri": "https://localhost:8080/",
          "height": 590
        },
        "outputId": "1e7c4d0a-649e-456e-e422-ccb50b6e34c2"
      },
      "source": [
        "import matplotlib.pyplot as plt\n",
        "import matplotlib.ticker as ticker\n",
        "\n",
        "plt.figure()\n",
        "plt.plot(all_train_losses_RNN)\n",
        "plt.plot(all_train_losses_GRU)\n",
        "plt.plot(all_train_losses_LSTM)\n",
        "plt.title('Classifying names with a character-level RNN (Train Loss)')\n",
        "plt.ylabel('Negative Log Likelihood')\n",
        "plt.xlabel('# of 1000 iterations')\n",
        "plt.legend(['Linear','GRU','LSTM'], loc='upper right')\n",
        "\n",
        "\n",
        "plt.figure()\n",
        "plt.plot(all_validation_losses_RNN)\n",
        "plt.plot(all_validation_losses_GRU)\n",
        "plt.plot(all_validation_losses_LSTM)\n",
        "plt.title('Classifying names with a character-level RNN (Validation Loss)')\n",
        "plt.ylabel('Negative Log Likelihood')\n",
        "plt.xlabel('# of 1000 iterations')\n",
        "plt.legend(['Linear','GRU','LSTM'], loc='upper right')\n"
      ],
      "execution_count": null,
      "outputs": [
        {
          "output_type": "execute_result",
          "data": {
            "text/plain": [
              "<matplotlib.legend.Legend at 0x7f8bb91f7c40>"
            ]
          },
          "metadata": {},
          "execution_count": 19
        },
        {
          "output_type": "display_data",
          "data": {
            "text/plain": [
              "<Figure size 432x288 with 1 Axes>"
            ],
            "image/png": "[encoded data removed]"
          },
          "metadata": {
            "needs_background": "light"
          }
        },
        {
          "output_type": "display_data",
          "data": {
            "text/plain": [
              "<Figure size 432x288 with 1 Axes>"
            ],
            "image/png": "[encoded data removed]"
          },
          "metadata": {
            "needs_background": "light"
          }
        }
      ]
    },
    {
      "cell_type": "markdown",
      "metadata": {
        "id": "rs5yHF_cUfyY"
      },
      "source": [
        "Evaluating the Results\n",
        "======================\n",
        "\n",
        "To see how well the network performs on different categories, we will\n",
        "create a confusion matrix, indicating for every actual language (rows)\n",
        "which language the network guesses (columns). To calculate the confusion\n",
        "matrix a bunch of samples are run through the network with\n",
        "``evaluate()``, which is the same as ``train()`` minus the backprop.\n",
        "\n",
        "\n"
      ]
    },
    {
      "cell_type": "markdown",
      "source": [
        "### Linear Hidden Unit"
      ],
      "metadata": {
        "id": "EBDPCoZXY_-T"
      }
    },
    {
      "cell_type": "code",
      "metadata": {
        "id": "El-a2qJvUfyZ",
        "colab": {
          "base_uri": "https://localhost:8080/",
          "height": 407
        },
        "outputId": "168bc863-08a5-40b2-a131-06975b8802b5"
      },
      "source": [
        "# evaluate on test set and display confusion matrix\n",
        "rnn = torch.load('char_rnn_classification_model.pt')\n",
        "average_test_loss, confusion = eval_dataset(test_data, rnn)\n",
        "print('Average test loss: ' + str(average_test_loss))\n",
        "\n",
        "# Set up plot\n",
        "fig = plt.figure()\n",
        "ax = fig.add_subplot(111)\n",
        "cax = ax.matshow(confusion.numpy())\n",
        "fig.colorbar(cax)\n",
        "\n",
        "# Set up axes\n",
        "ax.set_xticklabels([''] + all_categories, rotation=90)\n",
        "ax.set_yticklabels([''] + all_categories)\n",
        "\n",
        "# Force label at every tick\n",
        "ax.xaxis.set_major_locator(ticker.MultipleLocator(1))\n",
        "ax.yaxis.set_major_locator(ticker.MultipleLocator(1))\n",
        "\n",
        "# sphinx_gallery_thumbnail_number = 2\n",
        "plt.show()"
      ],
      "execution_count": null,
      "outputs": [
        {
          "output_type": "stream",
          "name": "stdout",
          "text": [
            "Average test loss: 1.3025723196434522\n"
          ]
        },
        {
          "output_type": "stream",
          "name": "stderr",
          "text": [
            "<ipython-input-20-418b60ecb002>:13: UserWarning: FixedFormatter should only be used together with FixedLocator\n",
            "  ax.set_xticklabels([''] + all_categories, rotation=90)\n",
            "<ipython-input-20-418b60ecb002>:14: UserWarning: FixedFormatter should only be used together with FixedLocator\n",
            "  ax.set_yticklabels([''] + all_categories)\n"
          ]
        },
        {
          "output_type": "display_data",
          "data": {
            "text/plain": [
              "<Figure size 432x288 with 2 Axes>"
            ],
            "image/png": "[encoded data removed]"
          },
          "metadata": {
            "needs_background": "light"
          }
        }
      ]
    },
    {
      "cell_type": "markdown",
      "metadata": {
        "id": "DwU9mA1QUfyb"
      },
      "source": [
        "You can pick out bright spots off the main axis that show which\n",
        "languages it guesses incorrectly, e.g. Chinese for Korean, and Spanish\n",
        "for Italian. It seems to do very well with Greek, and very poorly with\n",
        "English (perhaps because of overlap with other languages).\n",
        "\n",
        "\n"
      ]
    },
    {
      "cell_type": "markdown",
      "source": [
        "### GRU Hidden Unit"
      ],
      "metadata": {
        "id": "-YBDuoJzZPWi"
      }
    },
    {
      "cell_type": "code",
      "source": [
        "# evaluate on test set and display confusion matrix\n",
        "gru = torch.load('char_gru_classification_model.pt')\n",
        "average_test_loss, confusion = eval_dataset(test_data, gru)\n",
        "print('Average test loss: ' + str(average_test_loss))\n",
        "\n",
        "# Set up plot\n",
        "fig = plt.figure()\n",
        "ax = fig.add_subplot(111)\n",
        "cax = ax.matshow(confusion.numpy())\n",
        "fig.colorbar(cax)\n",
        "\n",
        "# Set up axes\n",
        "ax.set_xticklabels([''] + all_categories, rotation=90)\n",
        "ax.set_yticklabels([''] + all_categories)\n",
        "\n",
        "# Force label at every tick\n",
        "ax.xaxis.set_major_locator(ticker.MultipleLocator(1))\n",
        "ax.yaxis.set_major_locator(ticker.MultipleLocator(1))\n",
        "\n",
        "# sphinx_gallery_thumbnail_number = 2\n",
        "plt.show()"
      ],
      "metadata": {
        "id": "IUQ6uqLzIm2Z",
        "colab": {
          "base_uri": "https://localhost:8080/",
          "height": 407
        },
        "outputId": "04756d6a-2627-417a-bc21-263040641e8c"
      },
      "execution_count": null,
      "outputs": [
        {
          "output_type": "stream",
          "name": "stdout",
          "text": [
            "Average test loss: 0.9019137175628957\n"
          ]
        },
        {
          "output_type": "stream",
          "name": "stderr",
          "text": [
            "<ipython-input-21-15e0c1d649e1>:13: UserWarning: FixedFormatter should only be used together with FixedLocator\n",
            "  ax.set_xticklabels([''] + all_categories, rotation=90)\n",
            "<ipython-input-21-15e0c1d649e1>:14: UserWarning: FixedFormatter should only be used together with FixedLocator\n",
            "  ax.set_yticklabels([''] + all_categories)\n"
          ]
        },
        {
          "output_type": "display_data",
          "data": {
            "text/plain": [
              "<Figure size 432x288 with 2 Axes>"
            ],
            "image/png": "[encoded data removed]"
          },
          "metadata": {
            "needs_background": "light"
          }
        }
      ]
    },
    {
      "cell_type": "markdown",
      "source": [
        "### LSTM Hidden Unit"
      ],
      "metadata": {
        "id": "naRD2t2mZbcg"
      }
    },
    {
      "cell_type": "code",
      "source": [
        "# evaluate on test set and display confusion matrix\n",
        "lstm = torch.load('char_lstm_classification_model.pt')\n",
        "average_test_loss, confusion = eval_dataset(test_data, lstm)\n",
        "print('Average test loss: ' + str(average_test_loss))\n",
        "\n",
        "# Set up plot\n",
        "fig = plt.figure()\n",
        "ax = fig.add_subplot(111)\n",
        "cax = ax.matshow(confusion.numpy())\n",
        "fig.colorbar(cax)\n",
        "\n",
        "# Set up axes\n",
        "ax.set_xticklabels([''] + all_categories, rotation=90)\n",
        "ax.set_yticklabels([''] + all_categories)\n",
        "\n",
        "# Force label at every tick\n",
        "ax.xaxis.set_major_locator(ticker.MultipleLocator(1))\n",
        "ax.yaxis.set_major_locator(ticker.MultipleLocator(1))\n",
        "\n",
        "# sphinx_gallery_thumbnail_number = 2\n",
        "plt.show()"
      ],
      "metadata": {
        "id": "yB-0CivuJI7p",
        "colab": {
          "base_uri": "https://localhost:8080/",
          "height": 407
        },
        "outputId": "246186dd-4383-49b1-f996-966500321153"
      },
      "execution_count": null,
      "outputs": [
        {
          "output_type": "stream",
          "name": "stdout",
          "text": [
            "Average test loss: 0.890730189546193\n"
          ]
        },
        {
          "output_type": "stream",
          "name": "stderr",
          "text": [
            "<ipython-input-22-0d8a37162ef4>:13: UserWarning: FixedFormatter should only be used together with FixedLocator\n",
            "  ax.set_xticklabels([''] + all_categories, rotation=90)\n",
            "<ipython-input-22-0d8a37162ef4>:14: UserWarning: FixedFormatter should only be used together with FixedLocator\n",
            "  ax.set_yticklabels([''] + all_categories)\n"
          ]
        },
        {
          "output_type": "display_data",
          "data": {
            "text/plain": [
              "<Figure size 432x288 with 2 Axes>"
            ],
            "image/png": "[encoded data removed]"
          },
          "metadata": {
            "needs_background": "light"
          }
        }
      ]
    },
    {
      "cell_type": "markdown",
      "source": [
        "## Explanation:\n",
        "\n",
        "- GRU and LSTM hidden unit based RNN is performing better than Linear Hidden Unit based RNN. The main reason for this is GRU and LSTM uses multiple gates to decide and store the text information based on context; whereas, linear hidden unit model does not have this capability of deciding based on gates, but it just learns weights based on linear transformation of input and previous hidden unit information. In turn, LSTM and GRU facilitates long term memory, whereas linear hidden unit does not. Also the gate based architecture of GRU and LSTM solves the vanishing gradient problem of linear hidden unit based RNN.\n",
        "- Apart from that, LSTM model uses 3 gates and has comparatively more complex architecture than 2 gates based GRU model. This justifies why LSTM is performing slightly better than GRU in our case. But, due to simlicity and equivalent level of performance, we can still use GRU especially for small scale NLP problems; and LSTM would be preferred for larger scale NLP problems."
      ],
      "metadata": {
        "id": "5HYwgLD_Bh0Q"
      }
    },
    {
      "cell_type": "markdown",
      "metadata": {
        "id": "gWg7ObZAUfyc"
      },
      "source": [
        "Running on User Input\n",
        "---------------------\n",
        "\n",
        "\n"
      ]
    },
    {
      "cell_type": "code",
      "metadata": {
        "id": "bbWHJnCdUfyc",
        "colab": {
          "base_uri": "https://localhost:8080/"
        },
        "outputId": "6001cece-c9ca-4afa-ce70-c3b2e4045a41"
      },
      "source": [
        "def predict(input_line, n_predictions=3):\n",
        "    print('\\n> %s' % input_line)\n",
        "    with torch.no_grad():\n",
        "        output = evaluate(lineToTensor(input_line), rnn) # using linear hidden unit based RNN model\n",
        "\n",
        "        # Get top N categories\n",
        "        topv, topi = output.topk(n_predictions, 1, True)\n",
        "        predictions = []\n",
        "\n",
        "        for i in range(n_predictions):\n",
        "            value = topv[0][i].item()\n",
        "            category_index = topi[0][i].item()\n",
        "            print('(%.2f) %s' % (value, all_categories[category_index]))\n",
        "            predictions.append([value, all_categories[category_index]])\n",
        "\n",
        "predict('Dovesky')\n",
        "predict('Jackson')\n",
        "predict('Satoshi')"
      ],
      "execution_count": null,
      "outputs": [
        {
          "output_type": "stream",
          "name": "stdout",
          "text": [
            "\n",
            "> Dovesky\n",
            "(-0.55) Russian\n",
            "(-1.01) Czech\n",
            "(-3.27) English\n",
            "\n",
            "> Jackson\n",
            "(-1.26) English\n",
            "(-1.80) Czech\n",
            "(-1.83) Russian\n",
            "\n",
            "> Satoshi\n",
            "(-0.85) Polish\n",
            "(-1.41) Japanese\n",
            "(-2.10) Italian\n"
          ]
        }
      ]
    },
    {
      "cell_type": "markdown",
      "metadata": {
        "id": "TWQ_XQrfUfyf"
      },
      "source": [
        "The final versions of the scripts `in the Practical PyTorch\n",
        "repo <https://github.com/spro/practical-pytorch/tree/master/char-rnn-classification>`__\n",
        "split the above code into a few files:\n",
        "\n",
        "-  ``data.py`` (loads files)\n",
        "-  ``model.py`` (defines the RNN)\n",
        "-  ``train.py`` (runs training)\n",
        "-  ``predict.py`` (runs ``predict()`` with command line arguments)\n",
        "-  ``server.py`` (serve prediction as a JSON API with bottle.py)\n",
        "\n",
        "Run ``train.py`` to train and save the network.\n",
        "\n",
        "Run ``predict.py`` with a name to view predictions:\n",
        "\n",
        "::\n",
        "\n",
        "    $ python predict.py Hazaki\n",
        "    (-0.42) Japanese\n",
        "    (-1.39) Polish\n",
        "    (-3.51) Czech\n",
        "\n",
        "Run ``server.py`` and visit http://localhost:5533/Yourname to get JSON\n",
        "output of predictions.\n",
        "\n",
        "\n"
      ]
    },
    {
      "cell_type": "markdown",
      "metadata": {
        "id": "-BX4vuLxUfyg"
      },
      "source": [
        "Exercises\n",
        "=========\n",
        "\n",
        "-  Try with a different dataset of line -> category, for example:\n",
        "\n",
        "   -  Any word -> language\n",
        "   -  First name -> gender\n",
        "   -  Character name -> writer\n",
        "   -  Page title -> blog or subreddit\n",
        "\n",
        "-  Get better results with a bigger and/or better shaped network\n",
        "\n",
        "   -  Add more linear layers\n",
        "   -  Try the ``nn.LSTM`` and ``nn.GRU`` layers\n",
        "   -  Combine multiple of these RNNs as a higher level network\n",
        "\n",
        "\n"
      ]
    }
  ]
}