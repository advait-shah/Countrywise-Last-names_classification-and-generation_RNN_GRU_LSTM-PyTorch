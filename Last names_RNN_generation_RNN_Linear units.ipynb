{
  "nbformat": 4,
  "nbformat_minor": 0,
  "metadata": {
    "colab": {
      "provenance": []
    },
    "language_info": {
      "codemirror_mode": {
        "name": "ipython",
        "version": 3
      },
      "file_extension": ".py",
      "mimetype": "text/x-python",
      "name": "python",
      "nbconvert_exporter": "python",
      "pygments_lexer": "ipython3",
      "version": "3.6.6"
    },
    "kernelspec": {
      "name": "python3",
      "display_name": "Python 3"
    },
    "gpuClass": "standard",
    "accelerator": "GPU"
  },
  "cells": [
    {
      "cell_type": "markdown",
      "metadata": {
        "id": "SjndRzjVTDSx"
      },
      "source": [
        "Download data"
      ]
    },
    {
      "cell_type": "code",
      "metadata": {
        "id": "HeeD4VZ0TBm9",
        "colab": {
          "base_uri": "https://localhost:8080/"
        },
        "outputId": "a58dda21-9fce-4687-f03d-4f52ff631817"
      },
      "source": [
        "!wget https://download.pytorch.org/tutorial/data.zip\n",
        "!unzip data.zip\n",
        "!ls"
      ],
      "execution_count": null,
      "outputs": [
        {
          "output_type": "stream",
          "name": "stdout",
          "text": [
            "--2023-03-18 07:03:02--  https://download.pytorch.org/tutorial/data.zip\n",
            "Resolving download.pytorch.org (download.pytorch.org)... 13.249.85.72, 13.249.85.10, 13.249.85.7, ...\n",
            "Connecting to download.pytorch.org (download.pytorch.org)|13.249.85.72|:443... connected.\n",
            "HTTP request sent, awaiting response... 200 OK\n",
            "Length: 2882130 (2.7M) [application/zip]\n",
            "Saving to: ‘data.zip’\n",
            "\n",
            "data.zip            100%[===================>]   2.75M  --.-KB/s    in 0.07s   \n",
            "\n",
            "2023-03-18 07:03:02 (41.1 MB/s) - ‘data.zip’ saved [2882130/2882130]\n",
            "\n",
            "Archive:  data.zip\n",
            "   creating: data/\n",
            "  inflating: data/eng-fra.txt        \n",
            "   creating: data/names/\n",
            "  inflating: data/names/Arabic.txt   \n",
            "  inflating: data/names/Chinese.txt  \n",
            "  inflating: data/names/Czech.txt    \n",
            "  inflating: data/names/Dutch.txt    \n",
            "  inflating: data/names/English.txt  \n",
            "  inflating: data/names/French.txt   \n",
            "  inflating: data/names/German.txt   \n",
            "  inflating: data/names/Greek.txt    \n",
            "  inflating: data/names/Irish.txt    \n",
            "  inflating: data/names/Italian.txt  \n",
            "  inflating: data/names/Japanese.txt  \n",
            "  inflating: data/names/Korean.txt   \n",
            "  inflating: data/names/Polish.txt   \n",
            "  inflating: data/names/Portuguese.txt  \n",
            "  inflating: data/names/Russian.txt  \n",
            "  inflating: data/names/Scottish.txt  \n",
            "  inflating: data/names/Spanish.txt  \n",
            "  inflating: data/names/Vietnamese.txt  \n",
            "data  data.zip\tsample_data\n"
          ]
        }
      ]
    },
    {
      "cell_type": "code",
      "metadata": {
        "id": "4tSGA3X6dURt"
      },
      "source": [
        "%matplotlib inline"
      ],
      "execution_count": null,
      "outputs": []
    },
    {
      "cell_type": "markdown",
      "metadata": {
        "id": "MRMSa-PEdURy"
      },
      "source": [
        "\n",
        "Generating Names with a Character-Level RNN\n",
        "*******************************************\n",
        "**Author**: `Sean Robertson <https://github.com/spro/practical-pytorch>`_\n",
        "\n",
        "In the :doc:`last tutorial </intermediate/char_rnn_classification_tutorial>`\n",
        "we used a RNN to classify names into their language of origin. This time\n",
        "we'll turn around and generate names from languages.\n",
        "\n",
        "::\n",
        "\n",
        "    > python sample.py Russian RUS\n",
        "    Rovakov\n",
        "    Uantov\n",
        "    Shavakov\n",
        "\n",
        "    > python sample.py German GER\n",
        "    Gerren\n",
        "    Ereng\n",
        "    Rosher\n",
        "\n",
        "    > python sample.py Spanish SPA\n",
        "    Salla\n",
        "    Parer\n",
        "    Allan\n",
        "\n",
        "    > python sample.py Chinese CHI\n",
        "    Chan\n",
        "    Hang\n",
        "    Iun\n",
        "\n",
        "We are still hand-crafting a small RNN with a few linear layers. The big\n",
        "difference is instead of predicting a category after reading in all the\n",
        "letters of a name, we input a category and output one letter at a time.\n",
        "Recurrently predicting characters to form language (this could also be\n",
        "done with words or other higher order constructs) is often referred to\n",
        "as a \"language model\".\n",
        "\n",
        "**Recommended Reading:**\n",
        "\n",
        "I assume you have at least installed PyTorch, know Python, and\n",
        "understand Tensors:\n",
        "\n",
        "-  http://pytorch.org/ For installation instructions\n",
        "-  :doc:`/beginner/deep_learning_60min_blitz` to get started with PyTorch in general\n",
        "-  :doc:`/beginner/pytorch_with_examples` for a wide and deep overview\n",
        "-  :doc:`/beginner/former_torchies_tutorial` if you are former Lua Torch user\n",
        "\n",
        "It would also be useful to know about RNNs and how they work:\n",
        "\n",
        "-  `The Unreasonable Effectiveness of Recurrent Neural\n",
        "   Networks <http://karpathy.github.io/2015/05/21/rnn-effectiveness/>`__\n",
        "   shows a bunch of real life examples\n",
        "-  `Understanding LSTM\n",
        "   Networks <http://colah.github.io/posts/2015-08-Understanding-LSTMs/>`__\n",
        "   is about LSTMs specifically but also informative about RNNs in\n",
        "   general\n",
        "\n",
        "I also suggest the previous tutorial, :doc:`/intermediate/char_rnn_classification_tutorial`\n",
        "\n",
        "\n",
        "Preparing the Data\n",
        "==================\n",
        "\n",
        ".. Note::\n",
        "   Download the data from\n",
        "   `here <https://download.pytorch.org/tutorial/data.zip>`_\n",
        "   and extract it to the current directory.\n",
        "\n",
        "See the last tutorial for more detail of this process. In short, there\n",
        "are a bunch of plain text files ``data/names/[Language].txt`` with a\n",
        "name per line. We split lines into an array, convert Unicode to ASCII,\n",
        "and end up with a dictionary ``{language: [names ...]}``.\n",
        "\n",
        "\n"
      ]
    },
    {
      "cell_type": "code",
      "metadata": {
        "id": "yivWZ-QrdURz",
        "colab": {
          "base_uri": "https://localhost:8080/"
        },
        "outputId": "500c8d5e-a10a-4591-dbb2-e8474462a099"
      },
      "source": [
        "from __future__ import unicode_literals, print_function, division\n",
        "from io import open\n",
        "import glob\n",
        "import os\n",
        "import unicodedata\n",
        "import string\n",
        "import math\n",
        "import random\n",
        "\n",
        "all_letters = string.ascii_letters + \" .,;'-\"\n",
        "n_letters = len(all_letters) + 1 # Plus EOS marker\n",
        "\n",
        "def findFiles(path): return glob.glob(path)\n",
        "\n",
        "# Turn a Unicode string to plain ASCII, thanks to http://stackoverflow.com/a/518232/2809427\n",
        "def unicodeToAscii(s):\n",
        "    return ''.join(\n",
        "        c for c in unicodedata.normalize('NFD', s)\n",
        "        if unicodedata.category(c) != 'Mn'\n",
        "        and c in all_letters\n",
        "    )\n",
        "\n",
        "# Read a file and split into lines\n",
        "def readLines(filename):\n",
        "    lines = open(filename, encoding='utf-8').read().strip().split('\\n')\n",
        "    return [unicodeToAscii(line) for line in lines]\n",
        "\n",
        "# Build the category_lines dictionary, a list of lines per category\n",
        "category_lines = {}\n",
        "train_data = {}\n",
        "validation_data = {}\n",
        "test_data = {}\n",
        "all_categories = []\n",
        "for filename in findFiles('data/names/*.txt'):\n",
        "    category = os.path.splitext(os.path.basename(filename))[0]\n",
        "    all_categories.append(category)\n",
        "    lines = readLines(filename)\n",
        "    random.shuffle(lines)\n",
        "    train_data[category] = lines[0:int(math.floor(0.7*len(lines)))]\n",
        "    validation_data[category] = lines[int(math.floor(0.7*len(lines)))+1:int(math.floor(0.85*len(lines)))]\n",
        "    test_data[category] = lines[int(math.floor(0.85*len(lines)))+1:]\n",
        "    category_lines[category] = lines\n",
        "\n",
        "n_categories = len(all_categories)\n",
        "\n",
        "if n_categories == 0:\n",
        "    raise RuntimeError('Data not found. Make sure that you downloaded data '\n",
        "        'from https://download.pytorch.org/tutorial/data.zip and extract it to '\n",
        "        'the current directory.')\n",
        "\n",
        "print('# categories:', n_categories, all_categories)\n",
        "print(unicodeToAscii(\"O'Néàl\"))"
      ],
      "execution_count": null,
      "outputs": [
        {
          "output_type": "stream",
          "name": "stdout",
          "text": [
            "# categories: 18 ['Polish', 'Scottish', 'German', 'Italian', 'French', 'Russian', 'Vietnamese', 'Korean', 'Spanish', 'English', 'Czech', 'Chinese', 'Japanese', 'Arabic', 'Greek', 'Dutch', 'Irish', 'Portuguese']\n",
            "O'Neal\n"
          ]
        }
      ]
    },
    {
      "cell_type": "markdown",
      "metadata": {
        "id": "MlY6De-4dUR1"
      },
      "source": [
        "Creating the Network\n",
        "====================\n",
        "\n",
        "This network extends `the last tutorial's RNN <#Creating-the-Network>`__\n",
        "with an extra argument for the category tensor, which is concatenated\n",
        "along with the others. The category tensor is a one-hot vector just like\n",
        "the letter input.\n",
        "\n",
        "We will interpret the output as the probability of the next letter. When\n",
        "sampling, the most likely output letter is used as the next input\n",
        "letter.\n",
        "\n",
        "I added a second linear layer ``o2o`` (after combining hidden and\n",
        "output) to give it more muscle to work with. There's also a dropout\n",
        "layer, which `randomly zeros parts of its\n",
        "input <https://arxiv.org/abs/1207.0580>`__ with a given probability\n",
        "(here 0.1) and is usually used to fuzz inputs to prevent overfitting.\n",
        "Here we're using it towards the end of the network to purposely add some\n",
        "chaos and increase sampling variety.\n",
        "\n",
        ".. figure:: https://i.imgur.com/jzVrf7f.png\n",
        "   :alt:\n",
        "\n",
        "\n",
        "\n"
      ]
    },
    {
      "cell_type": "code",
      "source": [
        "import torch\n",
        "import torch.nn as nn\n",
        "from torch.autograd import Variable\n",
        "\n",
        "# Get cpu or gpu device for training.\n",
        "device = \"cuda\" if torch.cuda.is_available() else \"mps\" if torch.backends.mps.is_available() else \"cpu\"\n",
        "print(f\"Using {device} device\")"
      ],
      "metadata": {
        "colab": {
          "base_uri": "https://localhost:8080/"
        },
        "id": "g2k7a1wRhy3q",
        "outputId": "c0960bc0-6f7e-4af8-cc96-84fbad56cb7a"
      },
      "execution_count": null,
      "outputs": [
        {
          "output_type": "stream",
          "name": "stdout",
          "text": [
            "Using cuda device\n"
          ]
        }
      ]
    },
    {
      "cell_type": "code",
      "metadata": {
        "id": "B3Y0aicRdUR2"
      },
      "source": [
        "# RNN #1\n",
        "class RNN1(nn.Module):\n",
        "    def __init__(self, input_size, hidden_size, output_size):\n",
        "        super(RNN1, self).__init__()\n",
        "        self.hidden_size = hidden_size\n",
        "\n",
        "        self.i2h = nn.Linear(n_categories + input_size + hidden_size, hidden_size)\n",
        "        self.i2o = nn.Linear(n_categories + input_size + hidden_size, output_size)\n",
        "        self.o2o = nn.Linear(hidden_size + output_size, output_size)\n",
        "        self.dropout = nn.Dropout(0.1)\n",
        "        self.softmax = nn.LogSoftmax(dim=1)\n",
        "\n",
        "    def forward(self, category, input, hidden):\n",
        "        input_combined = torch.cat((category, input, hidden), 1)\n",
        "        hidden = self.i2h(input_combined)\n",
        "        output = self.i2o(input_combined)\n",
        "        output_combined = torch.cat((hidden, output), 1)\n",
        "        output = self.o2o(output_combined)\n",
        "        output = self.dropout(output)\n",
        "        output = self.softmax(output)\n",
        "        return output, hidden\n",
        "\n",
        "    def initHidden(self):\n",
        "        return torch.zeros(1, self.hidden_size)"
      ],
      "execution_count": null,
      "outputs": []
    },
    {
      "cell_type": "code",
      "source": [
        "# RNN #2\n",
        "class RNN2(nn.Module):\n",
        "    def __init__(self, input_size, hidden_size, output_size):\n",
        "        super(RNN2, self).__init__()\n",
        "        self.hidden_size = hidden_size\n",
        "\n",
        "        self.i2h = nn.Linear(input_size + hidden_size, hidden_size)\n",
        "        self.i2o = nn.Linear(n_categories + input_size + hidden_size, output_size)\n",
        "        self.o2o = nn.Linear(hidden_size + output_size, output_size)\n",
        "        self.dropout = nn.Dropout(0.1)\n",
        "        self.softmax = nn.LogSoftmax(dim=1)\n",
        "\n",
        "    def forward(self, category, input, hidden):\n",
        "        \n",
        "        input_combined = torch.cat((category, input, hidden), 1)\n",
        "        \n",
        "        combined = torch.cat((input, hidden), 1)\n",
        "        hidden = self.i2h(combined)\n",
        "        \n",
        "        output = self.i2o(input_combined)\n",
        "        output_combined = torch.cat((hidden, output), 1)\n",
        "        output = self.o2o(output_combined)\n",
        "        output = self.dropout(output)\n",
        "        output = self.softmax(output)\n",
        "        return output, hidden\n",
        "\n",
        "    def initHidden(self):\n",
        "        return torch.zeros(1, self.hidden_size)"
      ],
      "metadata": {
        "id": "x3MPJ7rqOqdG"
      },
      "execution_count": null,
      "outputs": []
    },
    {
      "cell_type": "code",
      "source": [
        "# RNN #3\n",
        "class RNN3(nn.Module):\n",
        "    def __init__(self, input_size, hidden_size, output_size):\n",
        "        super(RNN3, self).__init__()\n",
        "        self.hidden_size = hidden_size\n",
        "\n",
        "        self.i2h = nn.Linear(n_categories + hidden_size, hidden_size)\n",
        "        self.i2o = nn.Linear(n_categories + input_size + hidden_size, output_size)\n",
        "        self.o2o = nn.Linear(hidden_size + output_size, output_size)\n",
        "        self.dropout = nn.Dropout(0.1)\n",
        "        self.softmax = nn.LogSoftmax(dim=1)\n",
        "\n",
        "    def forward(self, category, input, hidden):\n",
        "        \n",
        "        input_combined = torch.cat((category, input, hidden), 1)\n",
        "        \n",
        "        combined = torch.cat((category, hidden), 1)\n",
        "        hidden = self.i2h(combined)\n",
        "        \n",
        "        output = self.i2o(input_combined)\n",
        "        output_combined = torch.cat((hidden, output), 1)\n",
        "        output = self.o2o(output_combined)\n",
        "        output = self.dropout(output)\n",
        "        output = self.softmax(output)\n",
        "        return output, hidden\n",
        "\n",
        "    def initHidden(self):\n",
        "        return torch.zeros(1, self.hidden_size)"
      ],
      "metadata": {
        "id": "6wTPgBIUDZXg"
      },
      "execution_count": null,
      "outputs": []
    },
    {
      "cell_type": "code",
      "source": [
        "# RNN #4\n",
        "class RNN4(nn.Module):\n",
        "    def __init__(self, input_size, hidden_size, output_size):\n",
        "        super(RNN4, self).__init__()\n",
        "        self.hidden_size = hidden_size\n",
        "\n",
        "        self.i2h = nn.Linear(hidden_size, hidden_size)\n",
        "        self.i2o = nn.Linear(n_categories + input_size + hidden_size, output_size)\n",
        "        self.o2o = nn.Linear(hidden_size + output_size, output_size)\n",
        "        self.dropout = nn.Dropout(0.1)\n",
        "        self.softmax = nn.LogSoftmax(dim=1)\n",
        "\n",
        "    def forward(self, category, input, hidden):\n",
        "        \n",
        "        input_combined = torch.cat((category, input, hidden), 1)\n",
        "        \n",
        "        hidden = self.i2h(hidden)\n",
        "        \n",
        "        output = self.i2o(input_combined)\n",
        "        output_combined = torch.cat((hidden, output), 1)\n",
        "        output = self.o2o(output_combined)\n",
        "        output = self.dropout(output)\n",
        "        output = self.softmax(output)\n",
        "        return output, hidden\n",
        "\n",
        "    def initHidden(self):\n",
        "        return torch.zeros(1, self.hidden_size)"
      ],
      "metadata": {
        "id": "YQocvyu0EqMa"
      },
      "execution_count": null,
      "outputs": []
    },
    {
      "cell_type": "markdown",
      "metadata": {
        "id": "-f_zTkMSdUR4"
      },
      "source": [
        "Training\n",
        "=========\n",
        "Preparing for Training\n",
        "----------------------\n",
        "\n",
        "First of all, helper functions to get random pairs of (category, line):\n",
        "\n",
        "\n"
      ]
    },
    {
      "cell_type": "code",
      "metadata": {
        "id": "mJ4453vLdUR5"
      },
      "source": [
        "import random\n",
        "\n",
        "# Random item from a list\n",
        "def randomChoice(l):\n",
        "    return l[random.randint(0, len(l) - 1)]\n",
        "\n",
        "# Get a random category and random line from that category\n",
        "def randomTrainingPair():\n",
        "    category = randomChoice(all_categories)\n",
        "    line = randomChoice(train_data[category])\n",
        "    return category, line"
      ],
      "execution_count": null,
      "outputs": []
    },
    {
      "cell_type": "markdown",
      "metadata": {
        "id": "9l7cNuyJdUR7"
      },
      "source": [
        "For each timestep (that is, for each letter in a training word) the\n",
        "inputs of the network will be\n",
        "``(category, current letter, hidden state)`` and the outputs will be\n",
        "``(next letter, next hidden state)``. So for each training set, we'll\n",
        "need the category, a set of input letters, and a set of output/target\n",
        "letters.\n",
        "\n",
        "Since we are predicting the next letter from the current letter for each\n",
        "timestep, the letter pairs are groups of consecutive letters from the\n",
        "line - e.g. for ``\"ABCD<EOS>\"`` we would create (\"A\", \"B\"), (\"B\", \"C\"),\n",
        "(\"C\", \"D\"), (\"D\", \"EOS\").\n",
        "\n",
        ".. figure:: https://i.imgur.com/JH58tXY.png\n",
        "   :alt:\n",
        "\n",
        "The category tensor is a `one-hot\n",
        "tensor <https://en.wikipedia.org/wiki/One-hot>`__ of size\n",
        "``<1 x n_categories>``. When training we feed it to the network at every\n",
        "timestep - this is a design choice, it could have been included as part\n",
        "of initial hidden state or some other strategy.\n",
        "\n",
        "\n"
      ]
    },
    {
      "cell_type": "code",
      "metadata": {
        "id": "XiLZFiyddUR7"
      },
      "source": [
        "# One-hot vector for category\n",
        "def categoryTensor(category):\n",
        "    li = all_categories.index(category)\n",
        "    tensor = torch.zeros(1, n_categories)\n",
        "    tensor[0][li] = 1\n",
        "    return tensor\n",
        "\n",
        "# One-hot matrix of first to last letters (not including EOS) for input\n",
        "def inputTensor(line):\n",
        "    tensor = torch.zeros(len(line), 1, n_letters)\n",
        "    for li in range(len(line)):\n",
        "        letter = line[li]\n",
        "        tensor[li][0][all_letters.find(letter)] = 1\n",
        "    return tensor\n",
        "\n",
        "# LongTensor of second letter to end (EOS) for target\n",
        "def targetTensor(line):\n",
        "    letter_indexes = [all_letters.find(line[li]) for li in range(1, len(line))]\n",
        "    letter_indexes.append(n_letters - 1) # EOS\n",
        "    return torch.LongTensor(letter_indexes)"
      ],
      "execution_count": null,
      "outputs": []
    },
    {
      "cell_type": "markdown",
      "metadata": {
        "id": "SlrGrMi0dUR-"
      },
      "source": [
        "For convenience during training we'll make a ``randomTrainingExample``\n",
        "function that fetches a random (category, line) pair and turns them into\n",
        "the required (category, input, target) tensors.\n",
        "\n",
        "\n"
      ]
    },
    {
      "cell_type": "code",
      "metadata": {
        "id": "G8WKEzgLdUR_"
      },
      "source": [
        "# Make category, input, and target tensors from a random category, line pair\n",
        "def randomTrainingExample():\n",
        "    category, line = randomTrainingPair()\n",
        "    category_tensor = categoryTensor(category)\n",
        "    input_line_tensor = inputTensor(line)\n",
        "    target_line_tensor = targetTensor(line)\n",
        "    return category_tensor, input_line_tensor, target_line_tensor"
      ],
      "execution_count": null,
      "outputs": []
    },
    {
      "cell_type": "markdown",
      "metadata": {
        "id": "AdFYtchcdUSB"
      },
      "source": [
        "Training the Network\n",
        "--------------------\n",
        "\n",
        "In contrast to classification, where only the last output is used, we\n",
        "are making a prediction at every step, so we are calculating loss at\n",
        "every step.\n",
        "\n",
        "The magic of autograd allows you to simply sum these losses at each step\n",
        "and call backward at the end.\n",
        "\n",
        "\n"
      ]
    },
    {
      "cell_type": "code",
      "metadata": {
        "id": "a9WcN0iMdUSB"
      },
      "source": [
        "criterion = nn.NLLLoss()\n",
        "\n",
        "def train(category_tensor, input_line_tensor, target_line_tensor, model, optimizer):\n",
        "    target_line_tensor.unsqueeze_(-1)\n",
        "    hidden = model.initHidden()\n",
        "\n",
        "    model.zero_grad()\n",
        "\n",
        "    loss = 0\n",
        "\n",
        "    for i in range(input_line_tensor.size(0)):\n",
        "        output, hidden = model(category_tensor, input_line_tensor[i], hidden)\n",
        "        l = criterion(output, target_line_tensor[i])\n",
        "        loss += l\n",
        "\n",
        "    # compute the gradient by backpropagation\n",
        "    loss.backward()\n",
        "\n",
        "    # update the parameters\n",
        "    optimizer.step()\n",
        "\n",
        "    return output, loss.item() / input_line_tensor.size(0)"
      ],
      "execution_count": null,
      "outputs": []
    },
    {
      "cell_type": "markdown",
      "metadata": {
        "id": "sxerzd5cdUSE"
      },
      "source": [
        "To keep track of how long training takes I am adding a\n",
        "``timeSince(timestamp)`` function which returns a human readable string:\n",
        "\n",
        "\n"
      ]
    },
    {
      "cell_type": "code",
      "metadata": {
        "id": "CgynvRVzdUSE"
      },
      "source": [
        "import time\n",
        "import math\n",
        "\n",
        "def timeSince(since):\n",
        "    now = time.time()\n",
        "    s = now - since\n",
        "    m = math.floor(s / 60)\n",
        "    s -= m * 60\n",
        "    return '%dm %ds' % (m, s)"
      ],
      "execution_count": null,
      "outputs": []
    },
    {
      "cell_type": "markdown",
      "metadata": {
        "id": "7pLWH-5YdUSH"
      },
      "source": [
        "Training is business as usual - call train a bunch of times and wait a\n",
        "few minutes, printing the current time and loss every ``print_every``\n",
        "examples, and keeping store of an average loss per ``plot_every`` examples\n",
        "in ``all_losses`` for plotting later.\n",
        "\n",
        "\n"
      ]
    },
    {
      "cell_type": "code",
      "metadata": {
        "id": "VpSLff2TdUSI"
      },
      "source": [
        "rnn1 = RNN1(n_letters, 128, n_letters)\n",
        "rnn2 = RNN2(n_letters, 128, n_letters)\n",
        "rnn3 = RNN3(n_letters, 128, n_letters)\n",
        "rnn4 = RNN4(n_letters, 128, n_letters)\n",
        "\n",
        "optimizer1 = torch.optim.Adam(rnn1.parameters())\n",
        "optimizer2 = torch.optim.Adam(rnn2.parameters())\n",
        "optimizer3 = torch.optim.Adam(rnn3.parameters())\n",
        "optimizer4 = torch.optim.Adam(rnn4.parameters())\n",
        "\n",
        "n_iters = 40000\n",
        "print_every = 2500\n",
        "plot_every = 500\n",
        "\n",
        "# Just return an output given a line\n",
        "def evaluate(category_tensor, input_line_tensor, target_line_tensor, model):\n",
        "    target_line_tensor.unsqueeze_(-1)\n",
        "    hidden = model.initHidden()\n",
        "    loss = 0\n",
        "    for i in range(input_line_tensor.size()[0]):\n",
        "        output, hidden = model(category_tensor, input_line_tensor[i], hidden)\n",
        "        loss += criterion(output, target_line_tensor[i])\n",
        "    return output, loss.item() / input_line_tensor.size(0)\n",
        "\n",
        "def eval_dataset(dataset, model):\n",
        "    total_loss = 0\n",
        "    n_instances = 0\n",
        "    for category in all_categories:\n",
        "        category_tensor = Variable(categoryTensor(category))\n",
        "        n_instances += len(dataset[category])\n",
        "        for line in dataset[category]:\n",
        "            input_line_tensor = Variable(inputTensor(line))\n",
        "            target_line_tensor = Variable(targetTensor(line))\n",
        "            output, loss = evaluate(category_tensor, input_line_tensor, target_line_tensor, model)\n",
        "            total_loss += loss\n",
        "    return total_loss / n_instances\n",
        "\n",
        "def experiment(model, optimizer):\n",
        "\n",
        "  all_train_losses = []\n",
        "  all_validation_losses = []\n",
        "  train_loss = 0 # Reset every plot_every iters\n",
        "\n",
        "  start = time.time()\n",
        "  print('\\nIter \\tTrain% \\tTime \\t\\tTrain_loss')\n",
        "\n",
        "  for iter in range(1, n_iters + 1):\n",
        "      output, loss = train(*randomTrainingExample(), model, optimizer)\n",
        "      train_loss += loss\n",
        "\n",
        "      if iter % print_every == 0:\n",
        "          print('%d \\t%d%% \\t(%s) \\t%.4f' % (iter, iter / n_iters * 100, timeSince(start), train_loss / plot_every))\n",
        "\n",
        "      if iter % plot_every == 0:\n",
        "          all_train_losses.append(train_loss / plot_every)\n",
        "          train_loss = 0\n",
        "          \n",
        "      # Compute loss based on validation data\n",
        "      if iter % plot_every == 0:\n",
        "          average_validation_loss = eval_dataset(validation_data, model)\n",
        "\n",
        "          # save model with best validation loss\n",
        "          if len(all_validation_losses) == 0 or average_validation_loss < min(all_validation_losses):\n",
        "            if model == rnn1:\n",
        "              torch.save(model, 'char_rnn1_generation_model.pt')\n",
        "            elif model == rnn2:\n",
        "              torch.save(model, 'char_rnn2_generation_model.pt')\n",
        "            elif model == rnn3:\n",
        "              torch.save(model, 'char_rnn3_generation_model.pt')            \n",
        "            elif model == rnn4:\n",
        "              torch.save(model, 'char_rnn4_generation_model.pt')\n",
        "          \n",
        "          all_validation_losses.append(average_validation_loss)\n",
        "\n",
        "  return all_train_losses, all_validation_losses"
      ],
      "execution_count": null,
      "outputs": []
    },
    {
      "cell_type": "code",
      "source": [
        "print('RNN1 experiment')\n",
        "all_train_losses_RNN1, all_validation_losses_RNN1 = experiment(rnn1, optimizer1)"
      ],
      "metadata": {
        "colab": {
          "base_uri": "https://localhost:8080/"
        },
        "id": "zy3q6Ig9J7kk",
        "outputId": "7e61599e-39b2-4e12-e9a5-951a8a06e2b7"
      },
      "execution_count": null,
      "outputs": [
        {
          "output_type": "stream",
          "name": "stdout",
          "text": [
            "RNN1 experiment\n",
            "\n",
            "Iter \tTrain% \tTime \t\tTrain_loss\n",
            "2500 \t6% \t(0m 23s) \t2.4389\n",
            "5000 \t12% \t(0m 51s) \t2.2996\n",
            "7500 \t18% \t(1m 20s) \t2.2858\n",
            "10000 \t25% \t(1m 46s) \t2.2330\n",
            "12500 \t31% \t(2m 13s) \t2.2538\n",
            "15000 \t37% \t(2m 40s) \t2.2724\n",
            "17500 \t43% \t(3m 7s) \t2.2718\n",
            "20000 \t50% \t(3m 34s) \t2.2442\n",
            "22500 \t56% \t(4m 1s) \t2.2670\n",
            "25000 \t62% \t(4m 27s) \t2.2256\n",
            "27500 \t68% \t(4m 54s) \t2.2144\n",
            "30000 \t75% \t(5m 21s) \t2.1906\n",
            "32500 \t81% \t(5m 47s) \t2.2184\n",
            "35000 \t87% \t(6m 14s) \t2.1904\n",
            "37500 \t93% \t(6m 41s) \t2.1924\n",
            "40000 \t100% \t(7m 8s) \t2.1940\n"
          ]
        }
      ]
    },
    {
      "cell_type": "code",
      "source": [
        "print('RNN2 experiment')\n",
        "all_train_losses_RNN2, all_validation_losses_RNN2 = experiment(rnn2, optimizer2)"
      ],
      "metadata": {
        "colab": {
          "base_uri": "https://localhost:8080/"
        },
        "id": "iXBTu8n5L2Fx",
        "outputId": "6899fa59-c2b3-48eb-dbec-443eac2a04dd"
      },
      "execution_count": null,
      "outputs": [
        {
          "output_type": "stream",
          "name": "stdout",
          "text": [
            "RNN2 experiment\n",
            "\n",
            "Iter \tTrain% \tTime \t\tTrain_loss\n",
            "2500 \t6% \t(0m 23s) \t2.4523\n",
            "5000 \t12% \t(0m 51s) \t2.3967\n",
            "7500 \t18% \t(1m 18s) \t2.3311\n",
            "10000 \t25% \t(1m 46s) \t2.3023\n",
            "12500 \t31% \t(2m 13s) \t2.2725\n",
            "15000 \t37% \t(2m 41s) \t2.2602\n",
            "17500 \t43% \t(3m 8s) \t2.2605\n",
            "20000 \t50% \t(3m 35s) \t2.2357\n",
            "22500 \t56% \t(4m 2s) \t2.2263\n",
            "25000 \t62% \t(4m 30s) \t2.2191\n",
            "27500 \t68% \t(4m 57s) \t2.1875\n",
            "30000 \t75% \t(5m 24s) \t2.2821\n",
            "32500 \t81% \t(5m 51s) \t2.2347\n",
            "35000 \t87% \t(6m 18s) \t2.2247\n",
            "37500 \t93% \t(6m 45s) \t2.2253\n",
            "40000 \t100% \t(7m 12s) \t2.1927\n"
          ]
        }
      ]
    },
    {
      "cell_type": "code",
      "source": [
        "print('RNN3 experiment')\n",
        "all_train_losses_RNN3, all_validation_losses_RNN3 = experiment(rnn3, optimizer3)"
      ],
      "metadata": {
        "colab": {
          "base_uri": "https://localhost:8080/"
        },
        "id": "8mxsHWjJL2el",
        "outputId": "06e0a935-ef89-4a13-d629-56b9f9d979e9"
      },
      "execution_count": null,
      "outputs": [
        {
          "output_type": "stream",
          "name": "stdout",
          "text": [
            "RNN3 experiment\n",
            "\n",
            "Iter \tTrain% \tTime \t\tTrain_loss\n",
            "2500 \t6% \t(0m 22s) \t2.4635\n",
            "5000 \t12% \t(0m 49s) \t2.4200\n",
            "7500 \t18% \t(1m 15s) \t2.3595\n",
            "10000 \t25% \t(1m 42s) \t2.3201\n",
            "12500 \t31% \t(2m 10s) \t2.3541\n",
            "15000 \t37% \t(2m 41s) \t2.3584\n",
            "17500 \t43% \t(3m 7s) \t2.2985\n",
            "20000 \t50% \t(3m 33s) \t2.3050\n",
            "22500 \t56% \t(4m 1s) \t2.3401\n",
            "25000 \t62% \t(4m 27s) \t2.3271\n",
            "27500 \t68% \t(4m 54s) \t2.3022\n",
            "30000 \t75% \t(5m 20s) \t2.3203\n",
            "32500 \t81% \t(5m 46s) \t2.3176\n",
            "35000 \t87% \t(6m 12s) \t2.3440\n",
            "37500 \t93% \t(6m 38s) \t2.3424\n",
            "40000 \t100% \t(7m 4s) \t2.2820\n"
          ]
        }
      ]
    },
    {
      "cell_type": "code",
      "source": [
        "print('RNN4 experiment')\n",
        "all_train_losses_RNN4, all_validation_losses_RNN4 = experiment(rnn4, optimizer4)"
      ],
      "metadata": {
        "colab": {
          "base_uri": "https://localhost:8080/"
        },
        "id": "6iwb-QZlL2w3",
        "outputId": "31e714b2-13d8-4f58-8277-4326365527d0"
      },
      "execution_count": null,
      "outputs": [
        {
          "output_type": "stream",
          "name": "stdout",
          "text": [
            "RNN4 experiment\n",
            "\n",
            "Iter \tTrain% \tTime \t\tTrain_loss\n",
            "2500 \t6% \t(0m 21s) \t2.5241\n",
            "5000 \t12% \t(0m 47s) \t2.4446\n",
            "7500 \t18% \t(1m 12s) \t2.3879\n",
            "10000 \t25% \t(1m 37s) \t2.3815\n",
            "12500 \t31% \t(2m 3s) \t2.3181\n",
            "15000 \t37% \t(2m 28s) \t2.3361\n",
            "17500 \t43% \t(2m 54s) \t2.3886\n",
            "20000 \t50% \t(3m 19s) \t2.3245\n",
            "22500 \t56% \t(3m 45s) \t2.3392\n",
            "25000 \t62% \t(4m 11s) \t2.3517\n",
            "27500 \t68% \t(4m 36s) \t2.3440\n",
            "30000 \t75% \t(5m 2s) \t2.3613\n",
            "32500 \t81% \t(5m 27s) \t2.3363\n",
            "35000 \t87% \t(5m 53s) \t2.3224\n",
            "37500 \t93% \t(6m 19s) \t2.2973\n",
            "40000 \t100% \t(6m 45s) \t2.3219\n"
          ]
        }
      ]
    },
    {
      "cell_type": "markdown",
      "metadata": {
        "id": "kbnt0ez-dUSK"
      },
      "source": [
        "Plotting the Losses\n",
        "-------------------\n",
        "\n",
        "Plotting the historical loss from all\\_losses shows the network\n",
        "learning:\n",
        "\n",
        "\n"
      ]
    },
    {
      "cell_type": "code",
      "metadata": {
        "id": "e_cF9iL1dUSK",
        "colab": {
          "base_uri": "https://localhost:8080/",
          "height": 590
        },
        "outputId": "3d608e61-7864-453e-c21c-d01383eff8a9"
      },
      "source": [
        "import matplotlib.pyplot as plt\n",
        "import matplotlib.ticker as ticker\n",
        "\n",
        "plt.figure()\n",
        "plt.plot(all_train_losses_RNN1)\n",
        "plt.plot(all_train_losses_RNN2)\n",
        "plt.plot(all_train_losses_RNN3)\n",
        "plt.plot(all_train_losses_RNN4)\n",
        "plt.title('Generating names with a character-level RNN (Training loss)')\n",
        "plt.ylabel('Negative Log Likelihood')\n",
        "plt.xlabel('# of 500 iterations')\n",
        "plt.legend(['previous hidden unit, prev. character & category', 'previous hidden unit & prev. character', 'previous hidden unit & category', 'previous hidden unit'], loc='upper right')\n",
        "\n",
        "plt.figure()\n",
        "plt.plot(all_validation_losses_RNN1)\n",
        "plt.plot(all_validation_losses_RNN2)\n",
        "plt.plot(all_validation_losses_RNN3)\n",
        "plt.plot(all_validation_losses_RNN4)\n",
        "plt.title('Generating names with a character-level RNN (Validation loss)')\n",
        "plt.ylabel('Negative Log Likelihood')\n",
        "plt.xlabel('# of 500 iterations')\n",
        "plt.legend(['previous hidden unit, prev. character & category', 'previous hidden unit & prev. character', 'previous hidden unit & category', 'previous hidden unit'], loc='upper right')\n"
      ],
      "execution_count": null,
      "outputs": [
        {
          "output_type": "execute_result",
          "data": {
            "text/plain": [
              "<matplotlib.legend.Legend at 0x7fbe6b8da640>"
            ]
          },
          "metadata": {},
          "execution_count": 19
        },
        {
          "output_type": "display_data",
          "data": {
            "text/plain": [
              "<Figure size 432x288 with 1 Axes>"
            ],
            "image/png": "[encoded data removed]"
          },
          "metadata": {
            "needs_background": "light"
          }
        },
        {
          "output_type": "display_data",
          "data": {
            "text/plain": [
              "<Figure size 432x288 with 1 Axes>"
            ],
            "image/png": "[encoded data removed]"
          },
          "metadata": {
            "needs_background": "light"
          }
        }
      ]
    },
    {
      "cell_type": "code",
      "source": [
        "# evaluate on test set and print average test loss\n",
        "rnn1 = torch.load('char_rnn1_generation_model.pt')\n",
        "average_test_loss_1 = eval_dataset(test_data, rnn1)\n",
        "print('Average test loss RNN1: ' + str(average_test_loss_1))\n",
        "\n",
        "rnn2 = torch.load('char_rnn2_generation_model.pt')\n",
        "average_test_loss_2 = eval_dataset(test_data, rnn2)\n",
        "print('Average test loss RNN2: ' + str(average_test_loss_2))\n",
        "\n",
        "rnn3 = torch.load('char_rnn3_generation_model.pt')\n",
        "average_test_loss_3 = eval_dataset(test_data, rnn3)\n",
        "print('Average test loss RNN3: ' + str(average_test_loss_3))\n",
        "\n",
        "rnn4 = torch.load('char_rnn4_generation_model.pt')\n",
        "average_test_loss_4 = eval_dataset(test_data, rnn4)\n",
        "print('Average test loss RNN4: ' + str(average_test_loss_4))"
      ],
      "metadata": {
        "colab": {
          "base_uri": "https://localhost:8080/"
        },
        "id": "PnkGOpNQLElP",
        "outputId": "11cad63d-d781-463f-915b-223c09df3e5a"
      },
      "execution_count": null,
      "outputs": [
        {
          "output_type": "stream",
          "name": "stdout",
          "text": [
            "Average test loss RNN1: 2.442103224058675\n",
            "Average test loss RNN2: 2.458011651713632\n",
            "Average test loss RNN3: 2.462078933106525\n",
            "Average test loss RNN4: 2.4595002153183003\n"
          ]
        }
      ]
    },
    {
      "cell_type": "markdown",
      "source": [
        "### Explanation of the results:<br> \n",
        "\n",
        "- When we provide just previous hidden unit information to new hidden unit, training, validation and test losses are the highest.\n",
        "- But, if we provide category information along with previous hidden unit in each hidden unit step, then losses decreases to some extent. However, if we provide previous predicted character information instead of category, it helps hidden unit much more, and our losses decreases significantly.\n",
        "- And finally, when we provide previous hidden unit, previous predicted character as well as category information in each step of hidden unit, our losses further decreases, and predictions are far superior.\n",
        "- It is also worth noting here that even when we provide all these information during each step of hidden unit update, our computation time for given number of iterations is not much changing. So, we can go with this hidden unit update approach for further text generation tasks. Providing category, previous character and previous hidden unit information helps model converge faster due to context availability at each step, and this helps it deal better with short term memory and vanishing gradients problems that happens otherwise."
      ],
      "metadata": {
        "id": "zu3t2QPepXcm"
      }
    },
    {
      "cell_type": "markdown",
      "metadata": {
        "id": "FqCUa1rJdUSM"
      },
      "source": [
        "Sampling the Network\n",
        "====================\n",
        "\n",
        "To sample we give the network a letter and ask what the next one is,\n",
        "feed that in as the next letter, and repeat until the EOS token.\n",
        "\n",
        "-  Create tensors for input category, starting letter, and empty hidden\n",
        "   state\n",
        "-  Create a string ``output_name`` with the starting letter\n",
        "-  Up to a maximum output length,\n",
        "\n",
        "   -  Feed the current letter to the network\n",
        "   -  Get the next letter from highest output, and next hidden state\n",
        "   -  If the letter is EOS, stop here\n",
        "   -  If a regular letter, add to ``output_name`` and continue\n",
        "\n",
        "-  Return the final name\n",
        "\n",
        ".. Note::\n",
        "   Rather than having to give it a starting letter, another\n",
        "   strategy would have been to include a \"start of string\" token in\n",
        "   training and have the network choose its own starting letter.\n",
        "\n",
        "\n"
      ]
    },
    {
      "cell_type": "code",
      "metadata": {
        "id": "kZWDVkPAdUSN",
        "colab": {
          "base_uri": "https://localhost:8080/"
        },
        "outputId": "c3a60cda-b614-4ad3-a900-82bbfa1925c2"
      },
      "source": [
        "max_length = 20\n",
        "\n",
        "# Sample from a category and starting letter\n",
        "def sample(category, start_letter='A'):\n",
        "    with torch.no_grad():  # no need to track history in sampling\n",
        "        category_tensor = categoryTensor(category)\n",
        "        input = inputTensor(start_letter)\n",
        "        hidden = rnn1.initHidden()\n",
        "\n",
        "        output_name = start_letter\n",
        "\n",
        "        for i in range(max_length):\n",
        "            output, hidden = rnn1(category_tensor, input[0], hidden)\n",
        "            topv, topi = output.topk(1)\n",
        "            topi = topi[0][0]\n",
        "            if topi == n_letters - 1:\n",
        "                break\n",
        "            else:\n",
        "                letter = all_letters[topi]\n",
        "                output_name += letter\n",
        "            input = inputTensor(letter)\n",
        "\n",
        "        return output_name\n",
        "\n",
        "# Get multiple samples from one category and multiple starting letters\n",
        "def samples(category, start_letters='ABC'):\n",
        "    for start_letter in start_letters:\n",
        "        print(sample(category, start_letter))\n",
        "\n",
        "samples('Russian', 'RUS')\n",
        "\n",
        "samples('German', 'GER')\n",
        "\n",
        "samples('Spanish', 'SPA')\n",
        "\n",
        "samples('Chinese', 'CHI')"
      ],
      "execution_count": null,
      "outputs": [
        {
          "output_type": "stream",
          "name": "stdout",
          "text": [
            "Rovekinn\n",
            "Uriski\n",
            "Shimans\n",
            "Gras\n",
            "Eleres\n",
            "Romen\n",
            "Sallo\n",
            "Palla\n",
            "Abero\n",
            "Can\n",
            "Hun\n",
            "Ino\n"
          ]
        }
      ]
    },
    {
      "cell_type": "markdown",
      "metadata": {
        "id": "f3H4eXrRdUSP"
      },
      "source": [
        "Exercises\n",
        "=========\n",
        "\n",
        "-  Try with a different dataset of category -> line, for example:\n",
        "\n",
        "   -  Fictional series -> Character name\n",
        "   -  Part of speech -> Word\n",
        "   -  Country -> City\n",
        "\n",
        "-  Use a \"start of sentence\" token so that sampling can be done without\n",
        "   choosing a start letter\n",
        "-  Get better results with a bigger and/or better shaped network\n",
        "\n",
        "   -  Try the nn.LSTM and nn.GRU layers\n",
        "   -  Combine multiple of these RNNs as a higher level network\n",
        "\n",
        "\n"
      ]
    }
  ]
}